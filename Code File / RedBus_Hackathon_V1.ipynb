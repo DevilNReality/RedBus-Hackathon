{
  "nbformat": 4,
  "nbformat_minor": 0,
  "metadata": {
    "colab": {
      "provenance": [],
      "authorship_tag": "ABX9TyMaqAOqxfpyW4/et0gxRXsX",
      "include_colab_link": true
    },
    "kernelspec": {
      "name": "python3",
      "display_name": "Python 3"
    },
    "language_info": {
      "name": "python"
    }
  },
  "cells": [
    {
      "cell_type": "markdown",
      "metadata": {
        "id": "view-in-github",
        "colab_type": "text"
      },
      "source": [
        "<a href=\"https://colab.research.google.com/github/DevilNReality/RedBus-Hackathon/blob/main/Code%20File%20/%20RedBus_Hackathon_V1.ipynb\" target=\"_parent\"><img src=\"https://colab.research.google.com/assets/colab-badge.svg\" alt=\"Open In Colab\"/></a>"
      ]
    },
    {
      "cell_type": "code",
      "execution_count": null,
      "metadata": {
        "colab": {
          "base_uri": "https://localhost:8080/"
        },
        "id": "BHEUp9kc_P7N",
        "outputId": "3b8f4502-ac32-403a-defc-6efae09abf30"
      },
      "outputs": [
        {
          "output_type": "stream",
          "name": "stdout",
          "text": [
            "Archive:  /content/train_JDXlpm8.zip\n",
            "   creating: train/\n",
            "  inflating: train/train.csv         \n",
            "  inflating: train/transactions.csv  \n"
          ]
        }
      ],
      "source": [
        "!unzip '/content/train_JDXlpm8.zip'"
      ]
    },
    {
      "cell_type": "markdown",
      "source": [
        "# **STEP 1: Imports and Setup**"
      ],
      "metadata": {
        "id": "hbPmWmKC_-dw"
      }
    },
    {
      "cell_type": "code",
      "source": [
        "import pandas as pd\n",
        "import numpy as np\n",
        "from sklearn.model_selection import train_test_split\n",
        "from sklearn.metrics import mean_squared_error\n",
        "from lightgbm import LGBMRegressor\n",
        "import matplotlib.pyplot as plt\n",
        "\n",
        "import warnings\n",
        "warnings.filterwarnings('ignore')"
      ],
      "metadata": {
        "id": "EwGToW3g_nRS"
      },
      "execution_count": null,
      "outputs": []
    },
    {
      "cell_type": "code",
      "source": [
        "train = pd.read_csv('/content/train/train.csv')\n",
        "test = pd.read_csv('/content/test_8gqdJqH.csv')\n",
        "sample_submission = pd.read_csv('/content/sample_submission_TQv3O0x.csv')\n",
        "transactions = pd.read_csv('/content/train/transactions.csv')"
      ],
      "metadata": {
        "id": "pZiDQoP8AD7D"
      },
      "execution_count": null,
      "outputs": []
    },
    {
      "cell_type": "markdown",
      "source": [
        "# **STEP 3: Transactions Feature Extraction (dbd = 15 only)**"
      ],
      "metadata": {
        "id": "ojVPq0vHAbyz"
      }
    },
    {
      "cell_type": "code",
      "source": [
        "tx_dbd15 = transactions[transactions['dbd'] == 15].copy()\n",
        "\n",
        "# Derive unique route key for joining\n",
        "tx_dbd15['route_key'] = tx_dbd15['doj'].astype(str) + \"_\" + \\\n",
        "                        tx_dbd15['srcid'].astype(str) + \"_\" + \\\n",
        "                        tx_dbd15['destid'].astype(str)\n",
        "\n",
        "# Keep only useful columns\n",
        "tx_features = tx_dbd15[['route_key', 'cumsum_seatcount', 'cumsum_searchcount']]\n",
        "tx_features.rename(columns={\n",
        "    'cumsum_seatcount': 'cumsum_seats_dbd15',\n",
        "    'cumsum_searchcount': 'cumsum_search_dbd15'\n",
        "}, inplace=True)"
      ],
      "metadata": {
        "id": "1XdqhzhYAKax"
      },
      "execution_count": null,
      "outputs": []
    },
    {
      "cell_type": "markdown",
      "source": [
        "# **STEP 4: Process Train and Test DataFrames**"
      ],
      "metadata": {
        "id": "iYV5bPzFA-W0"
      }
    },
    {
      "cell_type": "code",
      "source": [
        "for df in [train, test]:\n",
        "    df['route_key'] = df['doj'].astype(str) + \"_\" + df['srcid'].astype(str) + \"_\" + df['destid'].astype(str)\n",
        "\n",
        "train = train.merge(tx_features, on='route_key', how='left')\n",
        "test = test.merge(tx_features, on='route_key', how='left')\n",
        "\n",
        "for df in [train, test]:\n",
        "    df['doj'] = pd.to_datetime(df['doj'])\n",
        "    df['month'] = df['doj'].dt.month\n",
        "    df['weekday'] = df['doj'].dt.weekday\n",
        "    df['is_weekend'] = df['weekday'].isin([5, 6]).astype(int)\n",
        "    df['day_of_month'] = df['doj'].dt.day\n",
        "    df['is_month_end'] = (df['day_of_month'] >= 25).astype(int)\n",
        "\n",
        "for df in [train, test]:\n",
        "    df['search_seat_ratio'] = df['cumsum_search_dbd15'] / (df['cumsum_seats_dbd15'] + 1)\n",
        "\n",
        "route_stats = train.groupby(['srcid', 'destid'])['final_seatcount'].agg([\n",
        "    ('route_avg_demand', 'mean'),\n",
        "    ('route_median_demand', 'median'),\n",
        "    ('route_std_demand', 'std')\n",
        "]).reset_index()\n",
        "\n",
        "train = train.merge(route_stats, on=['srcid', 'destid'], how='left')\n",
        "test = test.merge(route_stats, on=['srcid', 'destid'], how='left')"
      ],
      "metadata": {
        "id": "FtWpd5l3EyvV"
      },
      "execution_count": null,
      "outputs": []
    },
    {
      "cell_type": "markdown",
      "source": [
        "# **STEP 5: Model Training**"
      ],
      "metadata": {
        "id": "DB_P8A7cBQYt"
      }
    },
    {
      "cell_type": "markdown",
      "source": [
        "## **LightGB MODEL**"
      ],
      "metadata": {
        "id": "150_sJ2OJYQA"
      }
    },
    {
      "cell_type": "code",
      "source": [
        "# Select features\n",
        "features = [ 'srcid', 'destid','month', 'weekday', 'is_weekend',\n",
        "    'day_of_month', 'is_month_end', 'cumsum_seats_dbd15', 'cumsum_search_dbd15',\n",
        "    'search_seat_ratio', 'route_avg_demand', 'route_std_demand']\n",
        "target = 'final_seatcount'\n",
        "\n",
        "# Handle missing values\n",
        "train[features] = train[features].fillna(0)\n",
        "test[features] = test[features].fillna(0)\n",
        "\n",
        "# Train-validation split\n",
        "X_train, X_val, y_train, y_val = train_test_split(\n",
        "    train[features], train[target], test_size=0.2, random_state=42\n",
        ")\n",
        "\n",
        "# Initialize model\n",
        "model = LGBMRegressor(n_estimators=1000, learning_rate=0.05, random_state=42)\n",
        "\n",
        "# Train with early stopping\n",
        "model.fit(\n",
        "    X_train, y_train,\n",
        "    eval_set=[(X_val, y_val)],\n",
        "    # early_stopping_rounds=50,\n",
        "    # verbose=100\n",
        ")\n",
        "\n",
        "# Evaluate\n",
        "val_preds = model.predict(X_val)\n",
        "rmse = np.sqrt(mean_squared_error(y_val, val_preds))\n",
        "print(f\"Validation RMSE: {rmse:.4f}\")\n"
      ],
      "metadata": {
        "colab": {
          "base_uri": "https://localhost:8080/"
        },
        "id": "W07Z0OSlBNDD",
        "outputId": "057c1561-0962-4107-b693-098724f4dc15"
      },
      "execution_count": null,
      "outputs": [
        {
          "output_type": "stream",
          "name": "stdout",
          "text": [
            "[LightGBM] [Info] Auto-choosing row-wise multi-threading, the overhead of testing was 0.003717 seconds.\n",
            "You can set `force_row_wise=true` to remove the overhead.\n",
            "And if memory is not enough, you can set `force_col_wise=true`.\n",
            "[LightGBM] [Info] Total Bins 1115\n",
            "[LightGBM] [Info] Number of data points in the train set: 53760, number of used features: 12\n",
            "[LightGBM] [Info] Start training from score 2003.632533\n",
            "Validation RMSE: 374.3534\n"
          ]
        }
      ]
    },
    {
      "cell_type": "markdown",
      "source": [
        "## **ENSEMBLING - XGB & LGBM**"
      ],
      "metadata": {
        "id": "L7fqxF6DHtqb"
      }
    },
    {
      "cell_type": "code",
      "source": [
        "from xgboost import XGBRegressor\n",
        "\n",
        "features = [ 'srcid', 'destid','month', 'weekday', 'is_weekend',\n",
        "    'day_of_month', 'is_month_end', 'cumsum_seats_dbd15', 'cumsum_search_dbd15',\n",
        "    'search_seat_ratio', 'route_avg_demand', 'route_std_demand']\n",
        "target = 'final_seatcount'\n",
        "\n",
        "train[features] = train[features].fillna(0)\n",
        "test[features] = test[features].fillna(0)\n",
        "\n",
        "X_train, X_val, y_train, y_val = train_test_split(\n",
        "    train[features], train[target], test_size=0.2, random_state=42\n",
        ")\n",
        "\n",
        "lgb_model = LGBMRegressor(n_estimators=1000, learning_rate=0.05, random_state=42)\n",
        "lgb_model.fit(X_train, y_train)\n",
        "lgb_val_preds = lgb_model.predict(X_val)\n",
        "\n",
        "xgb_model = XGBRegressor(n_estimators=1000, learning_rate=0.05, random_state=42)\n",
        "xgb_model.fit(X_train, y_train)\n",
        "xgb_val_preds = xgb_model.predict(X_val)\n",
        "\n",
        "ensemble_preds = (lgb_val_preds + xgb_val_preds) / 2\n",
        "rmse = np.sqrt(mean_squared_error(y_val, ensemble_preds))\n",
        "print(f\"Ensemble Validation RMSE: {rmse:.4f}\")"
      ],
      "metadata": {
        "colab": {
          "base_uri": "https://localhost:8080/"
        },
        "id": "xkk4OWH_BmI4",
        "outputId": "65f85a73-76b0-4bbe-dda6-51c21bd4e24e"
      },
      "execution_count": null,
      "outputs": [
        {
          "output_type": "stream",
          "name": "stdout",
          "text": [
            "[LightGBM] [Info] Auto-choosing row-wise multi-threading, the overhead of testing was 0.003686 seconds.\n",
            "You can set `force_row_wise=true` to remove the overhead.\n",
            "And if memory is not enough, you can set `force_col_wise=true`.\n",
            "[LightGBM] [Info] Total Bins 1115\n",
            "[LightGBM] [Info] Number of data points in the train set: 53760, number of used features: 12\n",
            "[LightGBM] [Info] Start training from score 2003.632533\n",
            "Ensemble Validation RMSE: 371.3349\n"
          ]
        }
      ]
    },
    {
      "cell_type": "markdown",
      "source": [
        "## **ENSEMBLING - LGBM & CATBOOST**"
      ],
      "metadata": {
        "id": "dEEC6Vm-H8oI"
      }
    },
    {
      "cell_type": "code",
      "source": [
        "! pip install catboost -q\n",
        "from catboost import CatBoostRegressor, Pool\n",
        "\n",
        "# Identify categorical columns (by name or index)\n",
        "categorical_features = ['srcid', 'destid', 'month', 'weekday', 'is_weekend',\n",
        "                        'day_of_month', 'is_month_end']\n",
        "\n",
        "# Train CatBoost\n",
        "cat_model = CatBoostRegressor(\n",
        "    iterations=1000,\n",
        "    learning_rate=0.05,\n",
        "    depth=6,\n",
        "    random_seed=42,\n",
        "    loss_function='RMSE',\n",
        "    verbose=100\n",
        ")\n",
        "\n",
        "cat_model.fit(\n",
        "    X_train, y_train,\n",
        "    cat_features=categorical_features,\n",
        "    eval_set=(X_val, y_val),\n",
        "    use_best_model=True\n",
        ")\n",
        "\n",
        "# CatBoost predictions\n",
        "cat_val_preds = cat_model.predict(X_val)\n",
        "\n",
        "# Ensemble: LightGBM + CatBoost\n",
        "ensemble_preds = (lgb_val_preds + cat_val_preds) / 2\n",
        "rmse = np.sqrt(mean_squared_error(y_val, ensemble_preds))\n",
        "print(f\"LightGBM + CatBoost RMSE: {rmse:.4f}\")"
      ],
      "metadata": {
        "colab": {
          "base_uri": "https://localhost:8080/"
        },
        "id": "TFGX7otBHJeR",
        "outputId": "8fb37bc9-d6d5-4d14-b967-6ba9495db368"
      },
      "execution_count": null,
      "outputs": [
        {
          "output_type": "stream",
          "name": "stdout",
          "text": [
            "\u001b[2K   \u001b[90m━━━━━━━━━━━━━━━━━━━━━━━━━━━━━━━━━━━━━━━━\u001b[0m \u001b[32m99.2/99.2 MB\u001b[0m \u001b[31m6.3 MB/s\u001b[0m eta \u001b[36m0:00:00\u001b[0m\n",
            "\u001b[?25h0:\tlearn: 1154.6195386\ttest: 1160.8980117\tbest: 1160.8980117 (0)\ttotal: 145ms\tremaining: 2m 24s\n",
            "100:\tlearn: 503.5354780\ttest: 501.4171058\tbest: 501.4171058 (100)\ttotal: 6.19s\tremaining: 55.1s\n",
            "200:\tlearn: 450.1682101\ttest: 445.6440330\tbest: 445.6440330 (200)\ttotal: 12.4s\tremaining: 49.2s\n",
            "300:\tlearn: 422.7660435\ttest: 419.4982165\tbest: 419.4982165 (300)\ttotal: 17.8s\tremaining: 41.4s\n",
            "400:\tlearn: 402.8267513\ttest: 396.6880180\tbest: 396.6880180 (400)\ttotal: 24.3s\tremaining: 36.3s\n",
            "500:\tlearn: 390.3588980\ttest: 382.8787183\tbest: 382.8787183 (500)\ttotal: 29.3s\tremaining: 29.2s\n",
            "600:\tlearn: 382.0595359\ttest: 375.3897491\tbest: 375.3897491 (600)\ttotal: 35.8s\tremaining: 23.8s\n",
            "700:\tlearn: 376.9988230\ttest: 370.7445337\tbest: 370.7445337 (700)\ttotal: 40.7s\tremaining: 17.4s\n",
            "800:\tlearn: 372.5155703\ttest: 367.3171320\tbest: 367.3171320 (800)\ttotal: 46.8s\tremaining: 11.6s\n",
            "900:\tlearn: 368.0966655\ttest: 363.6718332\tbest: 363.6718332 (900)\ttotal: 52.5s\tremaining: 5.77s\n",
            "999:\tlearn: 364.1937992\ttest: 360.6417998\tbest: 360.6417998 (999)\ttotal: 58.9s\tremaining: 0us\n",
            "\n",
            "bestTest = 360.6417998\n",
            "bestIteration = 999\n",
            "\n",
            "LightGBM + CatBoost RMSE: 357.5797\n"
          ]
        }
      ]
    },
    {
      "cell_type": "markdown",
      "source": [
        "## **ENSEMBLING - XGB & CATBOOST**"
      ],
      "metadata": {
        "id": "4s0lDwURIz-v"
      }
    },
    {
      "cell_type": "code",
      "source": [
        "# Predict on validation set from both models\n",
        "xgb_val_preds = xgb_model.predict(X_val)\n",
        "cat_val_preds = cat_model.predict(X_val)\n",
        "\n",
        "# Average\n",
        "ensemble_preds = (xgb_val_preds + cat_val_preds) / 2\n",
        "\n",
        "# Evaluate\n",
        "rmse = np.sqrt(mean_squared_error(y_val, ensemble_preds))\n",
        "print(f\"XGBoost + CatBoost Ensemble RMSE: {rmse:.4f}\")"
      ],
      "metadata": {
        "colab": {
          "base_uri": "https://localhost:8080/"
        },
        "id": "zTq-YqxFIHtg",
        "outputId": "d32bd5e6-7435-4d4e-abed-65cff84e71c3"
      },
      "execution_count": null,
      "outputs": [
        {
          "output_type": "stream",
          "name": "stdout",
          "text": [
            "XGBoost + CatBoost Ensemble RMSE: 356.8689\n"
          ]
        }
      ]
    },
    {
      "cell_type": "markdown",
      "source": [
        "## **ENSEMBLING - XGB & CATBOOST & LGBM**"
      ],
      "metadata": {
        "id": "jc_NI86jI806"
      }
    },
    {
      "cell_type": "code",
      "source": [
        "triple_preds = (lgb_val_preds + xgb_val_preds + cat_val_preds) / 3\n",
        "rmse = np.sqrt(mean_squared_error(y_val, triple_preds))\n",
        "print(f\"Triple Ensemble RMSE: {rmse:.4f}\")"
      ],
      "metadata": {
        "colab": {
          "base_uri": "https://localhost:8080/"
        },
        "id": "N8B_qEcAI7Aa",
        "outputId": "6e0e2979-adcc-4190-d96d-c99d79b70613"
      },
      "execution_count": null,
      "outputs": [
        {
          "output_type": "stream",
          "name": "stdout",
          "text": [
            "Triple Ensemble RMSE: 358.9779\n"
          ]
        }
      ]
    },
    {
      "cell_type": "markdown",
      "source": [
        "# **STEP 6: Hyperparameter Tuning**"
      ],
      "metadata": {
        "id": "FmU3u5_UKtbE"
      }
    },
    {
      "cell_type": "code",
      "source": [
        "from sklearn.model_selection import RandomizedSearchCV\n",
        "\n",
        "cat_model = CatBoostRegressor(loss_function='RMSE', verbose=0, random_seed=42)\n",
        "\n",
        "cat_params = {\n",
        "    'depth': [4, 6, 8, 10],\n",
        "    'learning_rate': [0.01, 0.03, 0.05, 0.1],\n",
        "    'l2_leaf_reg': [1, 3, 5, 7, 10],\n",
        "    'iterations': [500, 800, 1000]\n",
        "}\n",
        "\n",
        "cat_search = RandomizedSearchCV(cat_model, cat_params, n_iter=10, scoring='neg_root_mean_squared_error', cv=3, verbose=1, n_jobs=-1)\n",
        "cat_search.fit(X_train, y_train, cat_features=categorical_features)\n",
        "\n",
        "best_cat_model = cat_search.best_estimator_\n",
        "cat_val_preds = best_cat_model.predict(X_val)"
      ],
      "metadata": {
        "colab": {
          "base_uri": "https://localhost:8080/"
        },
        "id": "quQ5qJCtJGCb",
        "outputId": "09fbf8c3-c651-4fe5-b417-a808021b0759"
      },
      "execution_count": null,
      "outputs": [
        {
          "output_type": "stream",
          "name": "stdout",
          "text": [
            "Fitting 3 folds for each of 10 candidates, totalling 30 fits\n"
          ]
        }
      ]
    },
    {
      "cell_type": "code",
      "source": [
        "xgb_model = XGBRegressor(random_state=42)\n",
        "\n",
        "xgb_params = {\n",
        "    'max_depth': [3, 5, 7],\n",
        "    'min_child_weight': [1, 3, 5],\n",
        "    'subsample': [0.6, 0.8, 1.0],\n",
        "    'colsample_bytree': [0.6, 0.8, 1.0],\n",
        "    'learning_rate': [0.01, 0.05, 0.1],\n",
        "    'n_estimators': [500, 800, 1000]\n",
        "}\n",
        "\n",
        "xgb_search = RandomizedSearchCV(xgb_model, xgb_params, n_iter=10, scoring='neg_root_mean_squared_error', cv=3, verbose=1, n_jobs=-1)\n",
        "xgb_search.fit(X_train, y_train)\n",
        "\n",
        "best_xgb_model = xgb_search.best_estimator_\n",
        "xgb_val_preds = best_xgb_model.predict(X_val)"
      ],
      "metadata": {
        "colab": {
          "base_uri": "https://localhost:8080/"
        },
        "id": "0x-XRxFtK6lx",
        "outputId": "1585b211-a7b8-4c9c-d77e-40422f56cc88"
      },
      "execution_count": null,
      "outputs": [
        {
          "output_type": "stream",
          "name": "stdout",
          "text": [
            "Fitting 3 folds for each of 10 candidates, totalling 30 fits\n"
          ]
        }
      ]
    },
    {
      "cell_type": "code",
      "source": [
        "ensemble_preds = (cat_val_preds + xgb_val_preds) / 2\n",
        "rmse = np.sqrt(mean_squared_error(y_val, ensemble_preds))\n",
        "print(f\"Tuned XGB + CatBoost RMSE: {rmse:.4f}\")"
      ],
      "metadata": {
        "colab": {
          "base_uri": "https://localhost:8080/"
        },
        "id": "zSAkA7YQK_l8",
        "outputId": "7c2d02b3-0a92-41c4-bb7e-42a3c017bb40"
      },
      "execution_count": null,
      "outputs": [
        {
          "output_type": "stream",
          "name": "stdout",
          "text": [
            "Tuned XGB + CatBoost RMSE: 333.7984\n"
          ]
        }
      ]
    },
    {
      "cell_type": "markdown",
      "source": [
        "# **Step 7: Final Prediction & Submission**"
      ],
      "metadata": {
        "id": "OsvGi0-biVft"
      }
    },
    {
      "cell_type": "code",
      "source": [
        "xgb_test_preds = best_xgb_model.predict(test[features])\n",
        "cat_test_preds = best_cat_model.predict(test[features])\n",
        "\n",
        "final_preds = (xgb_test_preds + cat_test_preds) / 2\n",
        "\n",
        "sample_submission['final_seatcount'] = final_preds\n",
        "sample_submission.to_csv('submission.csv', index=False)\n",
        "\n",
        "print(\"✅ Submission saved as submission.csv\")"
      ],
      "metadata": {
        "colab": {
          "base_uri": "https://localhost:8080/"
        },
        "id": "eIZ8v8aYibfg",
        "outputId": "a786d37a-3060-492f-8564-a58853862470"
      },
      "execution_count": null,
      "outputs": [
        {
          "output_type": "stream",
          "name": "stdout",
          "text": [
            "✅ Submission saved as submission.csv\n"
          ]
        }
      ]
    }
  ]
}